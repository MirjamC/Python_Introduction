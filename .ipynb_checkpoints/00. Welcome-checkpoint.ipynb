{
 "cells": [
  {
   "cell_type": "markdown",
   "id": "5b5164b0",
   "metadata": {},
   "source": [
    "## Welcome to this Python introduction\n",
    "\n",
    "This introduction was made to give relevant basic knowledge about Python and Jupyter Notebooks to the attendees of the KB summerschool. \n",
    "\n",
    "In this introduction you will be introduced to:\n",
    "* Python basics and Jupyter Notebooks\n",
    "* The Pandas package for working with data files\n",
    "* The Plotly package for visualisations\n",
    "* The Spacy package for natural language processing.\n",
    "\n",
    "Some Notebooks contain interactive cells to try out and practice on  your own. \n",
    "The Spacy Notebook is theorie. \n",
    "\n",
    "If you have any questions about the course, please contact us via mirjam.cuper@kb.nl."
   ]
  },
  {
   "cell_type": "code",
   "execution_count": null,
   "id": "7abb7750",
   "metadata": {},
   "outputs": [],
   "source": []
  }
 ],
 "metadata": {
  "kernelspec": {
   "display_name": "Python 3 (ipykernel)",
   "language": "python",
   "name": "python3"
  },
  "language_info": {
   "codemirror_mode": {
    "name": "ipython",
    "version": 3
   },
   "file_extension": ".py",
   "mimetype": "text/x-python",
   "name": "python",
   "nbconvert_exporter": "python",
   "pygments_lexer": "ipython3",
   "version": "3.9.12"
  }
 },
 "nbformat": 4,
 "nbformat_minor": 5
}
