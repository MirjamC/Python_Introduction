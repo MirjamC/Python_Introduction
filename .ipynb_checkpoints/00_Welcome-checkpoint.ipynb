{
 "cells": [
  {
   "cell_type": "markdown",
   "id": "b9082914",
   "metadata": {},
   "source": [
    "## Welcome to this Python introduction\n",
    "\n",
    "This introduction is made to give relevant basic knowledge about Python and Jupyter Notebooks to the attendees of the KB summerschool. \n",
    "\n",
    "In this introduction you will be introduced to:\n",
    "* Python basics and Jupyter Notebooks\n",
    "* The Pandas package for working with data files\n",
    "* The Plotly package for visualisations\n",
    "\n",
    "\n",
    "If you open this tutorial in Binder, all notebooks contains interactive cells for practicing. \n",
    "\n",
    "If you have any questions about the course, please contact us via mirjam.cuper@kb.nl."
   ]
  },
  {
   "cell_type": "code",
   "execution_count": null,
   "id": "c6e96991",
   "metadata": {},
   "outputs": [],
   "source": []
  }
 ],
 "metadata": {
  "kernelspec": {
   "display_name": "Python 3 (ipykernel)",
   "language": "python",
   "name": "python3"
  },
  "language_info": {
   "codemirror_mode": {
    "name": "ipython",
    "version": 3
   },
   "file_extension": ".py",
   "mimetype": "text/x-python",
   "name": "python",
   "nbconvert_exporter": "python",
   "pygments_lexer": "ipython3",
   "version": "3.9.12"
  }
 },
 "nbformat": 4,
 "nbformat_minor": 5
}
