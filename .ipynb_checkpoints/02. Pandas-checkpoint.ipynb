{
 "cells": [
  {
   "cell_type": "markdown",
   "id": "7fecd959",
   "metadata": {},
   "source": [
    "Content:\n",
    "\n",
    "* what is pandas\n",
    "* what is a csv file\n",
    "* open a csv file with pandas\n",
    "* inspect csv file with pandas\n",
    "* filter with pandas\n",
    "* count with pandas\n",
    "* statistics with pandas"
   ]
  },
  {
   "cell_type": "markdown",
   "id": "74f3ca28",
   "metadata": {},
   "source": [
    "## What is Pandas"
   ]
  },
  {
   "cell_type": "markdown",
   "id": "4495375e",
   "metadata": {},
   "source": [
    "Pandas is a Python library used for working with data sets. It has functions for analyzing, cleaning, exploring, and manipulating data. In particular, it offers data structures and operations for manipulating numerical tables and time series.\n",
    "\n",
    "The name \"Pandas\" has a reference to both \"Panel Data\", and \"Python Data Analysis\" and was created by Wes McKinney in 2008.\n",
    "\n",
    "\n",
    "\n"
   ]
  },
  {
   "cell_type": "markdown",
   "id": "e997b4dd",
   "metadata": {},
   "source": [
    "## Why use Pandas?"
   ]
  },
  {
   "cell_type": "markdown",
   "id": "b13852b0",
   "metadata": {},
   "source": [
    "Pandas provide usefull features for data exploration, data cleaning, data analysis and data visualisation. \n",
    "\n",
    "- enkele voorbeelden\n",
    "\n",
    "\n",
    " "
   ]
  },
  {
   "cell_type": "markdown",
   "id": "59de932c",
   "metadata": {},
   "source": [
    "## Install pandas\n",
    "\n",
    "Pandas can be installed with:\n",
    "pip install pandas for regular installation\n"
   ]
  },
  {
   "cell_type": "markdown",
   "id": "05c4cae9",
   "metadata": {},
   "source": [
    "## Working with pandas\n",
    "\n",
    "As with every library in python, the first step is to import the library in your Jupyter Notebook.\n",
    "With pandas, it is common pracitse to provide the abbreviation 'pd' while importing. "
   ]
  },
  {
   "cell_type": "code",
   "execution_count": 3,
   "id": "ef6a2f66",
   "metadata": {},
   "outputs": [],
   "source": [
    "import pandas as pd "
   ]
  },
  {
   "cell_type": "code",
   "execution_count": null,
   "id": "6015fd2c",
   "metadata": {},
   "outputs": [],
   "source": []
  }
 ],
 "metadata": {
  "kernelspec": {
   "display_name": "Python 3 (ipykernel)",
   "language": "python",
   "name": "python3"
  },
  "language_info": {
   "codemirror_mode": {
    "name": "ipython",
    "version": 3
   },
   "file_extension": ".py",
   "mimetype": "text/x-python",
   "name": "python",
   "nbconvert_exporter": "python",
   "pygments_lexer": "ipython3",
   "version": "3.9.12"
  }
 },
 "nbformat": 4,
 "nbformat_minor": 5
}
