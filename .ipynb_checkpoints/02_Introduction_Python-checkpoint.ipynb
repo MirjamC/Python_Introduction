{
 "cells": [
  {
   "cell_type": "markdown",
   "metadata": {},
   "source": [
    "# Introduction to Python\n",
    "\n",
    "This Notebook is a combination of parts of the Notebooks from **Arpit Omprakash, Byte Sized Code** and the **XML workshop**"
   ]
  },
  {
   "cell_type": "markdown",
   "metadata": {},
   "source": [
    "## What is Python?\n",
    "Python was developed in 1991 by Guido van Rossum. The purpose of Python was to create a programming language that is both simple to understand and readable. Python works on different platforms such as Windows, Mac, Linux, etc. It is a very popular programming language in data analysis and data science because of its versatality. Python is open source, and can therefore be used for free."
   ]
  },
  {
   "cell_type": "markdown",
   "metadata": {},
   "source": [
    "## Basic Python Syntax"
   ]
  },
  {
   "cell_type": "markdown",
   "metadata": {},
   "source": [
    "### Basic Data Types \n",
    "\n",
    "While programming, we work with data, and data comes in all kinds of flavours and *types*.  \n",
    "There are a few basic data types in python that are used to store and manipulate any kind of data that we want to work with.\n",
    "\n",
    "Python supports the following basic (a.k.a primitive) data types:  \n",
    "- string:\n",
    "  - used to store characters\n",
    "  - always enclosed in quote marks (\" or ')\n",
    "  - denoted as `str`\n",
    "- integer:\n",
    "  - used to store integers (numbers without a fractional part)\n",
    "  - can be positive or negative\n",
    "  - denoted as `int`\n",
    "- float:\n",
    "  - used to store real numbers\n",
    "  - denoted by `float`\n",
    "- boolean:\n",
    "  - used to store a True/False value\n",
    "  - denoted by `bool`\n",
    "  \n",
    "We use the inbuilt `print` function to display the output. \n",
    "\n",
    "We can use the inbuilt `type` function (more on functions later) to get the datatype of a given chunk of data. "
   ]
  },
  {
   "cell_type": "code",
   "execution_count": 1,
   "metadata": {},
   "outputs": [
    {
     "name": "stdout",
     "output_type": "stream",
     "text": [
      "<class 'str'>\n"
     ]
    }
   ],
   "source": [
    "print(type(\"name\"))"
   ]
  },
  {
   "cell_type": "code",
   "execution_count": 2,
   "metadata": {},
   "outputs": [
    {
     "name": "stdout",
     "output_type": "stream",
     "text": [
      "<class 'int'>\n"
     ]
    }
   ],
   "source": [
    "print(type(2))"
   ]
  },
  {
   "cell_type": "code",
   "execution_count": 3,
   "metadata": {},
   "outputs": [
    {
     "name": "stdout",
     "output_type": "stream",
     "text": [
      "<class 'float'>\n"
     ]
    }
   ],
   "source": [
    "print(type(8.3))"
   ]
  },
  {
   "cell_type": "code",
   "execution_count": 4,
   "metadata": {},
   "outputs": [
    {
     "name": "stdout",
     "output_type": "stream",
     "text": [
      "<class 'bool'>\n"
     ]
    }
   ],
   "source": [
    "print(type(True))"
   ]
  },
  {
   "cell_type": "markdown",
   "metadata": {},
   "source": [
    "### Operators\n",
    "\n",
    "Now that we know how to store data using the appropriate types, we would eventually like to manipulate the data.  \n",
    "Python provides many operators that can be used to manipulate data.  \n",
    "Here are the most commonly used operators in python:"
   ]
  },
  {
   "cell_type": "markdown",
   "metadata": {},
   "source": [
    "\\\"+\"  addition operator\n",
    "- used to add two values"
   ]
  },
  {
   "cell_type": "code",
   "execution_count": 5,
   "metadata": {},
   "outputs": [
    {
     "name": "stdout",
     "output_type": "stream",
     "text": [
      "6\n"
     ]
    }
   ],
   "source": [
    "print(2 + 4)"
   ]
  },
  {
   "cell_type": "markdown",
   "metadata": {},
   "source": [
    "\"/\" division operator\n",
    "- used to divide one value by the other"
   ]
  },
  {
   "cell_type": "code",
   "execution_count": 6,
   "metadata": {},
   "outputs": [
    {
     "name": "stdout",
     "output_type": "stream",
     "text": [
      "1.5\n"
     ]
    }
   ],
   "source": [
    "print(3.0 / 2.0)"
   ]
  },
  {
   "cell_type": "markdown",
   "metadata": {},
   "source": [
    "\"\\*\" multiplication operator\n",
    "- used to multiply two values"
   ]
  },
  {
   "cell_type": "code",
   "execution_count": 7,
   "metadata": {},
   "outputs": [
    {
     "name": "stdout",
     "output_type": "stream",
     "text": [
      "20\n"
     ]
    }
   ],
   "source": [
    "print(10 * 2)"
   ]
  },
  {
   "cell_type": "markdown",
   "metadata": {},
   "source": [
    "\"-\" subtraction operator\n",
    "- used to subtract one value from another"
   ]
  },
  {
   "cell_type": "code",
   "execution_count": 8,
   "metadata": {},
   "outputs": [
    {
     "name": "stdout",
     "output_type": "stream",
     "text": [
      "2\n"
     ]
    }
   ],
   "source": [
    "print(3 - 1)"
   ]
  },
  {
   "cell_type": "markdown",
   "metadata": {},
   "source": [
    "**Operators and strings**\n",
    "\n",
    "A few operators can also be used with strings.  \n",
    "- the addition operator concatenates two strings to form a bigger string\n",
    "- the multiplication operator repeats a string n times (where n is the other operant)"
   ]
  },
  {
   "cell_type": "code",
   "execution_count": 9,
   "metadata": {},
   "outputs": [
    {
     "name": "stdout",
     "output_type": "stream",
     "text": [
      "hello world\n"
     ]
    }
   ],
   "source": [
    "print(\"hello \" + \"world\")"
   ]
  },
  {
   "cell_type": "code",
   "execution_count": 10,
   "metadata": {},
   "outputs": [
    {
     "name": "stdout",
     "output_type": "stream",
     "text": [
      "hellohellohello\n"
     ]
    }
   ],
   "source": [
    "print(\"hello\" * 3)"
   ]
  },
  {
   "cell_type": "markdown",
   "metadata": {},
   "source": [
    "**NOTE:** It should be noted that operators only work with the same data type. For example, we cannot add an integer to a string."
   ]
  },
  {
   "cell_type": "code",
   "execution_count": 11,
   "metadata": {},
   "outputs": [
    {
     "ename": "TypeError",
     "evalue": "can only concatenate str (not \"int\") to str",
     "output_type": "error",
     "traceback": [
      "\u001b[1;31m---------------------------------------------------------------------------\u001b[0m",
      "\u001b[1;31mTypeError\u001b[0m                                 Traceback (most recent call last)",
      "Input \u001b[1;32mIn [11]\u001b[0m, in \u001b[0;36m<cell line: 1>\u001b[1;34m()\u001b[0m\n\u001b[1;32m----> 1\u001b[0m \u001b[38;5;28mprint\u001b[39m(\u001b[38;5;124;43m\"\u001b[39;49m\u001b[38;5;124;43mhello \u001b[39;49m\u001b[38;5;124;43m\"\u001b[39;49m\u001b[43m \u001b[49m\u001b[38;5;241;43m+\u001b[39;49m\u001b[43m \u001b[49m\u001b[38;5;241;43m2\u001b[39;49m)\n",
      "\u001b[1;31mTypeError\u001b[0m: can only concatenate str (not \"int\") to str"
     ]
    }
   ],
   "source": [
    "print(\"hello \" + 2)"
   ]
  },
  {
   "cell_type": "markdown",
   "metadata": {},
   "source": [
    "### Type conversions\n",
    "\n",
    "As mentioned above, we can't mix data types while operating on them. This is a half truth.  \n",
    "We can mix some operators to a certain level. For example:"
   ]
  },
  {
   "cell_type": "code",
   "execution_count": 12,
   "metadata": {},
   "outputs": [
    {
     "name": "stdout",
     "output_type": "stream",
     "text": [
      "4.0\n"
     ]
    }
   ],
   "source": [
    "print(2 + 2.0)"
   ]
  },
  {
   "cell_type": "markdown",
   "metadata": {},
   "source": [
    "Here we added an integer to a float and we didn't get an error!  \n",
    "\n",
    "What happened here you ask?  \n",
    "Something called an **implicit type conversion**.  \n",
    "As floats can also contain integer values, Python converts the integer data type to a float data type before carrying out the addition. This can be noted from the fact that the result of the operation is a float."
   ]
  },
  {
   "cell_type": "code",
   "execution_count": 13,
   "metadata": {},
   "outputs": [
    {
     "name": "stdout",
     "output_type": "stream",
     "text": [
      "<class 'float'>\n"
     ]
    }
   ],
   "source": [
    "result = 2 + 2.0\n",
    "print(type(result))"
   ]
  },
  {
   "cell_type": "markdown",
   "metadata": {},
   "source": [
    "However, for some data types, Python does not allow implicit conversion.  \n",
    "We can however still convert the data (if need arises) by an **explicit type conversion** syntax/function.  \n",
    "This can be seen in the following example."
   ]
  },
  {
   "cell_type": "code",
   "execution_count": 14,
   "metadata": {},
   "outputs": [
    {
     "ename": "TypeError",
     "evalue": "can only concatenate str (not \"int\") to str",
     "output_type": "error",
     "traceback": [
      "\u001b[1;31m---------------------------------------------------------------------------\u001b[0m",
      "\u001b[1;31mTypeError\u001b[0m                                 Traceback (most recent call last)",
      "Input \u001b[1;32mIn [14]\u001b[0m, in \u001b[0;36m<cell line: 1>\u001b[1;34m()\u001b[0m\n\u001b[1;32m----> 1\u001b[0m \u001b[38;5;28mprint\u001b[39m(\u001b[38;5;124;43m\"\u001b[39;49m\u001b[38;5;124;43mnumber \u001b[39;49m\u001b[38;5;124;43m\"\u001b[39;49m\u001b[43m \u001b[49m\u001b[38;5;241;43m+\u001b[39;49m\u001b[43m \u001b[49m\u001b[38;5;241;43m23\u001b[39;49m)\n",
      "\u001b[1;31mTypeError\u001b[0m: can only concatenate str (not \"int\") to str"
     ]
    }
   ],
   "source": [
    "print(\"number \" + 23)"
   ]
  },
  {
   "cell_type": "code",
   "execution_count": 15,
   "metadata": {},
   "outputs": [
    {
     "name": "stdout",
     "output_type": "stream",
     "text": [
      "number 23\n"
     ]
    }
   ],
   "source": [
    "print(\"number \" + str(23))"
   ]
  },
  {
   "cell_type": "markdown",
   "metadata": {},
   "source": [
    "The `str` function converts a given data type to string data type."
   ]
  },
  {
   "cell_type": "markdown",
   "metadata": {},
   "source": [
    "### Variables\n",
    "\n",
    "It is very likely that any program that you will write will have some values that will change over time or even over the course of your whole program (or script).  \n",
    "We can store such values in variables.  \n",
    "You can think of variables as containers to store data.\n",
    "Variables can contain things like numbers, dates, text, but also lists and dataframes. \n",
    "\n",
    "Values are *assigned* to variables via an assignment operator (like =).\n",
    "\n",
    "In the following example, we have created two variables called `length` and `breadth`.  \n",
    "We can store different values in the variables and then later use them to carry out other functions or operations without even knowing what exact value the variable contains!"
   ]
  },
  {
   "cell_type": "code",
   "execution_count": 16,
   "metadata": {},
   "outputs": [
    {
     "name": "stdout",
     "output_type": "stream",
     "text": [
      "200\n"
     ]
    }
   ],
   "source": [
    "length = 10\n",
    "breadth = 20\n",
    "area = length * breadth\n",
    "print(area)"
   ]
  },
  {
   "cell_type": "markdown",
   "metadata": {},
   "source": [
    "Now lets change the value of the `breadth` variable and calculate the area again."
   ]
  },
  {
   "cell_type": "code",
   "execution_count": 17,
   "metadata": {},
   "outputs": [
    {
     "name": "stdout",
     "output_type": "stream",
     "text": [
      "100\n"
     ]
    }
   ],
   "source": [
    "breadth = 10\n",
    "area = length * breadth\n",
    "print(area)"
   ]
  },
  {
   "cell_type": "markdown",
   "metadata": {},
   "source": [
    "**NOTE: Variable Nomenclature**\n",
    "\n",
    "The name of a variable is up to your own discretion, although there are certain restrictions that are applied:  \n",
    "- we can't use keywords or built-in function names as variable names, e.g., `print`, `int` and `str` are not valid variable names.\n",
    "- variable names can't contain spaces, e.g., `new variable` is not valid\n",
    "- variable names should start with letters or underscores, e.g., `my_var` or `_var` are valid\n",
    "- variable names can contain only numbers, letters, or underscores, e.g., `_my_var_1` is a valid name\n",
    "\n",
    "(see all the rules and guidelines)"
   ]
  },
  {
   "cell_type": "markdown",
   "metadata": {},
   "source": [
    "**NOTE: Correct variable types**\n",
    "When creating a variable, it is important to input data correctly: for numbers no quotation marks are used, for text quotation marks must be used! If you add quotation marks to a number, Python sees this as a string."
   ]
  },
  {
   "cell_type": "code",
   "execution_count": 21,
   "metadata": {},
   "outputs": [
    {
     "data": {
      "text/plain": [
       "str"
      ]
     },
     "execution_count": 21,
     "metadata": {},
     "output_type": "execute_result"
    }
   ],
   "source": [
    "# This stores the data in the variable\n",
    "not_a_number = \"9\"\n",
    "# This determines its type\n",
    "type(not_a_number)"
   ]
  },
  {
   "cell_type": "markdown",
   "metadata": {},
   "source": [
    "**Excercise**\n",
    "\n",
    "Create two variables: item_price and amount. \n",
    "\n",
    "Store the number 5 in the variable item_price.\n",
    "\n",
    "Store the number 3 in the variable amount. \n",
    "\n",
    "Now use these variables to caclulate to total price by multiply them. Make sure that the total price is stored in the variable total_price"
   ]
  },
  {
   "cell_type": "code",
   "execution_count": 53,
   "metadata": {},
   "outputs": [],
   "source": [
    "### Write the exercise code here"
   ]
  },
  {
   "cell_type": "markdown",
   "metadata": {},
   "source": [
    "### Comparators\n",
    "\n",
    "In python we use what are called comparators to compare data.  \n",
    "The following comparators are generally used in python:\n",
    "- \\> to check if the left hand side is **greater than** the right hand side\n",
    "- \\< to check if the left hand side is **lesser than** the right hand side\n",
    "- \\>= to check if the left hand side is **greater than or equal** to the right hand side\n",
    "- \\<= to check if the left hand side is **lesser than or equal** to the right hand side\n",
    "- == to check if the left hand side is **equal** to the right hand side\n",
    "- != to check if the left hand side is **not equal** to the right hand side\n",
    "\n",
    "The comparators return a boolean value (True/False) indicating if the expression is valid or not."
   ]
  },
  {
   "cell_type": "code",
   "execution_count": null,
   "metadata": {},
   "outputs": [],
   "source": [
    "print(18 < 10)"
   ]
  },
  {
   "cell_type": "code",
   "execution_count": null,
   "metadata": {},
   "outputs": [],
   "source": [
    "print(10 > 1)"
   ]
  },
  {
   "cell_type": "code",
   "execution_count": null,
   "metadata": {},
   "outputs": [],
   "source": [
    "print((10/2) == 5)"
   ]
  },
  {
   "cell_type": "code",
   "execution_count": null,
   "metadata": {},
   "outputs": [],
   "source": [
    "print(1 != 2)"
   ]
  },
  {
   "cell_type": "code",
   "execution_count": null,
   "metadata": {},
   "outputs": [],
   "source": [
    "print(1.0 <= 1.1)"
   ]
  },
  {
   "cell_type": "code",
   "execution_count": null,
   "metadata": {},
   "outputs": [],
   "source": [
    "print(2.0 >= 3.0)"
   ]
  },
  {
   "cell_type": "markdown",
   "metadata": {},
   "source": [
    "The above examples were quite simple and basically used numbers (integers or floats).  \n",
    "We can also use some comparators with strings to check if they are greater than or less than other strings. In the context of strings, a string is said to be less than another one if it comes first in the dictionary and vice versa."
   ]
  },
  {
   "cell_type": "code",
   "execution_count": 23,
   "metadata": {},
   "outputs": [
    {
     "name": "stdout",
     "output_type": "stream",
     "text": [
      "True\n"
     ]
    }
   ],
   "source": [
    "print(\"AA\" < \"AB\")"
   ]
  },
  {
   "cell_type": "markdown",
   "metadata": {},
   "source": [
    "We can't use the less than and greater than comparators between strings and numbers."
   ]
  },
  {
   "cell_type": "code",
   "execution_count": 24,
   "metadata": {},
   "outputs": [
    {
     "ename": "TypeError",
     "evalue": "'<' not supported between instances of 'int' and 'str'",
     "output_type": "error",
     "traceback": [
      "\u001b[1;31m---------------------------------------------------------------------------\u001b[0m",
      "\u001b[1;31mTypeError\u001b[0m                                 Traceback (most recent call last)",
      "Input \u001b[1;32mIn [24]\u001b[0m, in \u001b[0;36m<cell line: 1>\u001b[1;34m()\u001b[0m\n\u001b[1;32m----> 1\u001b[0m \u001b[38;5;28mprint\u001b[39m(\u001b[38;5;241;43m1\u001b[39;49m\u001b[43m \u001b[49m\u001b[38;5;241;43m<\u001b[39;49m\u001b[43m \u001b[49m\u001b[38;5;124;43m\"\u001b[39;49m\u001b[38;5;124;43m10\u001b[39;49m\u001b[38;5;124;43m\"\u001b[39;49m)\n",
      "\u001b[1;31mTypeError\u001b[0m: '<' not supported between instances of 'int' and 'str'"
     ]
    }
   ],
   "source": [
    "print(1 < \"10\")"
   ]
  },
  {
   "cell_type": "markdown",
   "metadata": {},
   "source": [
    "We can also use the equal and not equal comparators between two strings, and a string and number. The latter case will always return False as a string can never be equal to a number data type in python."
   ]
  },
  {
   "cell_type": "code",
   "execution_count": null,
   "metadata": {},
   "outputs": [],
   "source": [
    "print(\"cat\" == \"cat\")"
   ]
  },
  {
   "cell_type": "code",
   "execution_count": null,
   "metadata": {},
   "outputs": [],
   "source": [
    "print(\"cat\" != \"dog\")"
   ]
  },
  {
   "cell_type": "code",
   "execution_count": 25,
   "metadata": {},
   "outputs": [
    {
     "name": "stdout",
     "output_type": "stream",
     "text": [
      "False\n"
     ]
    }
   ],
   "source": [
    "print(1 == \"1\")"
   ]
  },
  {
   "cell_type": "markdown",
   "metadata": {},
   "source": [
    "The comparators also work on information stored in variables.\n",
    "\n",
    "**Excercise**\n",
    "\n",
    "The normal price of a product is 39.99. \n",
    "\n",
    "The sales price is 29.99. \n",
    "\n",
    "Store both prices in two seperate variables and use a comparator to check if the sales prices is lower than the normal price. "
   ]
  },
  {
   "cell_type": "code",
   "execution_count": 54,
   "metadata": {},
   "outputs": [],
   "source": [
    "## Write the code here"
   ]
  },
  {
   "cell_type": "markdown",
   "metadata": {},
   "source": [
    "### Logical operators\n",
    "\n",
    "We can use logical operators to combine simple expressions into complex expressions.  \n",
    "There are three basic logical operators:\n",
    "- and = returns true if both the expressions are valid\n",
    "- or = returns true if at least one expression is valid\n",
    "- not = returns true if the expression is invalid and false if it is valid"
   ]
  },
  {
   "cell_type": "code",
   "execution_count": null,
   "metadata": {},
   "outputs": [],
   "source": [
    "print(1 == 10 and 2 != 3)"
   ]
  },
  {
   "cell_type": "code",
   "execution_count": null,
   "metadata": {},
   "outputs": [],
   "source": [
    "print(1 == 10 or 2 != 3)"
   ]
  },
  {
   "cell_type": "code",
   "execution_count": null,
   "metadata": {},
   "outputs": [],
   "source": [
    "print(not 42 == 42)"
   ]
  },
  {
   "cell_type": "markdown",
   "metadata": {},
   "source": [
    "### Output\n",
    "\n",
    "As you have already seen, executing code can produce output. In Jupyter Notebooks the output is presented within an output cell. Errors will be printed here too. Not all code will produce output, so don’t be alarmed.\n",
    "\n",
    "Output should generally be created by printing using:\n"
   ]
  },
  {
   "cell_type": "code",
   "execution_count": null,
   "metadata": {},
   "outputs": [],
   "source": [
    "print(\"whatever you wish to print\")"
   ]
  },
  {
   "cell_type": "markdown",
   "metadata": {},
   "source": [
    "Text must be put between quotes or Python will assume you wish to print variables.\n",
    "\n",
    "Variables can be printed the same way as text, but must not have quotation marks."
   ]
  },
  {
   "cell_type": "code",
   "execution_count": 27,
   "metadata": {},
   "outputs": [
    {
     "name": "stdout",
     "output_type": "stream",
     "text": [
      "I was printed with the print function\n"
     ]
    }
   ],
   "source": [
    "print_me = \"I was printed with the print function\"\n",
    "print(print_me)"
   ]
  },
  {
   "cell_type": "markdown",
   "metadata": {},
   "source": [
    "As you can see, this prints the contents of the variable to the output cell.\n",
    "\n",
    "However, using Jupyter Notebooks there is also another way to create output. The last line of a cell will always create output, if there is any output to create.\n",
    "\n",
    "To demonstrate this, let’s reuse some of our variabeles."
   ]
  },
  {
   "cell_type": "code",
   "execution_count": 31,
   "metadata": {},
   "outputs": [
    {
     "data": {
      "text/plain": [
       "'9'"
      ]
     },
     "execution_count": 31,
     "metadata": {},
     "output_type": "execute_result"
    }
   ],
   "source": [
    "area\n",
    "print_me\n",
    "not_a_number\n"
   ]
  },
  {
   "cell_type": "markdown",
   "metadata": {},
   "source": [
    "As you can see, only the content of variable in the last line (not_a_number) is printed"
   ]
  },
  {
   "cell_type": "markdown",
   "metadata": {},
   "source": [
    "These two ways of printing output are not completely the same. Printing using the print() function removes some of the layout that Jupyter creates for you. This is very noticable when printing tables (which we call ‘Dataframes’).\n",
    "\n",
    "We will give an example in this in the next Notebook. "
   ]
  },
  {
   "cell_type": "markdown",
   "metadata": {},
   "source": [
    "### Conditional statements, if else"
   ]
  },
  {
   "cell_type": "markdown",
   "metadata": {},
   "source": [
    "Now that we know about comparators and booleans, we can construct something called branches.  \n",
    "A branch in a program is basically a point where we can evaluate a certain condition and proceed based on how the condition evaluates.\n",
    "\n",
    "We use \"if\" statements in python to create branches.  \n",
    "These work like they do in real life.  \n",
    "``` \n",
    "if condition is true:\n",
    "        do something\n",
    "```\n",
    "That is also basically how we define an if statement. The following example will make things clear. "
   ]
  },
  {
   "cell_type": "code",
   "execution_count": 68,
   "metadata": {},
   "outputs": [
    {
     "name": "stdout",
     "output_type": "stream",
     "text": [
      "Lunch!\n"
     ]
    }
   ],
   "source": [
    "mood = 'hungry'\n",
    "\n",
    "if mood == 'hungry':\n",
    "\tprint(\"Lunch!\")"
   ]
  },
  {
   "cell_type": "code",
   "execution_count": 69,
   "metadata": {},
   "outputs": [],
   "source": [
    "mood =  \"not hungry\"\n",
    "\n",
    "if mood == 'hungry':\n",
    "\tprint(\"Lunch!\")"
   ]
  },
  {
   "cell_type": "markdown",
   "metadata": {},
   "source": [
    "In the first example, where 'mood' is hungry, Python executes the command stated in the 'if' function. For the second example, the if condition is not satisfied, thus there is no output. \n",
    "\n",
    "How can we change that?  \n",
    "We can extend our `if` statement with an `else` block. The else block executes only when the `if` condition is declared as `False`."
   ]
  },
  {
   "cell_type": "code",
   "execution_count": 75,
   "metadata": {},
   "outputs": [
    {
     "name": "stdout",
     "output_type": "stream",
     "text": [
      "Work!\n"
     ]
    }
   ],
   "source": [
    "mood =  \"not hungry\"\n",
    "\n",
    "if mood == \"hungry\":\n",
    "\tprint(\"Lunch!\")\n",
    "else:\n",
    "\tprint(\"Work!\")"
   ]
  },
  {
   "cell_type": "markdown",
   "metadata": {},
   "source": [
    "What if we want to add a new condition? \n",
    "\n",
    "We can use another `if` statement to write the code as follows."
   ]
  },
  {
   "cell_type": "code",
   "execution_count": 82,
   "metadata": {},
   "outputs": [],
   "source": [
    "mood = 'tired'\n",
    "\n",
    "if mood == \"hungry\":\n",
    "\tto_do = \"Lunch!\"\n",
    "else:\n",
    "    if mood == \"tired\":\n",
    "        to_do = \"Coffee\"\n",
    "    else:\n",
    "        to_do = \"work\""
   ]
  },
  {
   "cell_type": "code",
   "execution_count": 81,
   "metadata": {},
   "outputs": [
    {
     "name": "stdout",
     "output_type": "stream",
     "text": [
      "work\n"
     ]
    }
   ],
   "source": [
    "print(to_do)"
   ]
  },
  {
   "cell_type": "markdown",
   "metadata": {},
   "source": [
    "Adding even more conditions will make the code pretty long and difficult to manage. Shouldn't python have some functionality to prevent this?\n",
    "\n",
    "Indeed it does. We can add something called an `elif` block. The `elif` block checks a condition after the `if` condition evaluates to `False`. "
   ]
  },
  {
   "cell_type": "code",
   "execution_count": 83,
   "metadata": {},
   "outputs": [],
   "source": [
    "mood = 'tired'\n",
    "\n",
    "if mood == \"hungry\":\n",
    "\tto_do = \"Lunch!\"\n",
    "elif mood == \"tired\":\n",
    "    to_do = \"Coffee\"\n",
    "else:\n",
    "    to_do = \"work\""
   ]
  },
  {
   "cell_type": "code",
   "execution_count": 84,
   "metadata": {},
   "outputs": [
    {
     "name": "stdout",
     "output_type": "stream",
     "text": [
      "Coffee\n"
     ]
    }
   ],
   "source": [
    "print(to_do)"
   ]
  },
  {
   "cell_type": "markdown",
   "metadata": {},
   "source": [
    "### Functions\n",
    "When you program in Python you will make use of functions. Functions are snippets of code that can be called upon to carry out specific tasks. The str() code used in the previous exercise to make Python recognize numbers as text was an example of a function. Python contains a lot of built-in functions that are ready to use. Saving us a lot of manual coding!\n",
    "\n",
    "Functions need to be passed one or more parameters as input. The syntax of a function is as follows: functionname(parameters). When there are multiple parameters these are seperated with a comma.\n",
    "\n",
    "You can find some examples below"
   ]
  },
  {
   "cell_type": "code",
   "execution_count": 46,
   "metadata": {},
   "outputs": [
    {
     "data": {
      "text/plain": [
       "75"
      ]
     },
     "execution_count": 46,
     "metadata": {},
     "output_type": "execute_result"
    }
   ],
   "source": [
    "# Calculate the highest number using the max() function.\n",
    "max(5, 8, 35, 4, 75, 2)"
   ]
  },
  {
   "cell_type": "code",
   "execution_count": 47,
   "metadata": {},
   "outputs": [
    {
     "data": {
      "text/plain": [
       "36.53"
      ]
     },
     "execution_count": 47,
     "metadata": {},
     "output_type": "execute_result"
    }
   ],
   "source": [
    "round(36.53343, 2)"
   ]
  },
  {
   "cell_type": "markdown",
   "metadata": {},
   "source": [
    "You can also create your own functions.\n",
    "\n",
    "In the following example, we create a show() function that prints or \"shows\" a predefined greeting to us."
   ]
  },
  {
   "cell_type": "code",
   "execution_count": 48,
   "metadata": {},
   "outputs": [],
   "source": [
    "def show():\n",
    "    print(\"Welcome humanling!\")"
   ]
  },
  {
   "cell_type": "markdown",
   "metadata": {},
   "source": [
    "Note the syntax while creating (also called defining) a function.\n",
    "The function starts with a def keyword followed by the name and a parentheses.\n",
    "The first line must end with a colon (:) to indicate that it is a special kind of python statement.\n",
    "The next part of the code contains all the instructions for the function. These are indented to indicated that the instructions belong to the defined function. Remember, whitespace and indentation is critical in python.\n",
    "\n",
    "We covered all the steps for creating a function, then why doesn't it print anything?\n",
    "We need to call a function to make it work. The following cell calls the show function we defined above.\n"
   ]
  },
  {
   "cell_type": "code",
   "execution_count": 49,
   "metadata": {},
   "outputs": [
    {
     "name": "stdout",
     "output_type": "stream",
     "text": [
      "Welcome humanling!\n"
     ]
    }
   ],
   "source": [
    "show()"
   ]
  },
  {
   "cell_type": "markdown",
   "metadata": {},
   "source": [
    "Now we get the output!\n",
    "\n",
    "Functions can even take some parameters (or arguments) to carry out more specific tasks.\n",
    "Parameters are defined by writing variables for the parameters inside the parenthesis while defining a function.\n",
    "For example, the following function takes in a string called name as an argument and then prints a specialized greeting.\n"
   ]
  },
  {
   "cell_type": "code",
   "execution_count": 50,
   "metadata": {},
   "outputs": [],
   "source": [
    "def greet(name):\n",
    "    print(\"Welcome \"+ name + \"!\")"
   ]
  },
  {
   "cell_type": "code",
   "execution_count": 51,
   "metadata": {},
   "outputs": [
    {
     "name": "stdout",
     "output_type": "stream",
     "text": [
      "Welcome Arpit!\n"
     ]
    }
   ],
   "source": [
    "greet(\"Arpit\")"
   ]
  },
  {
   "cell_type": "markdown",
   "metadata": {},
   "source": [
    "**Excercise**\n",
    "\n",
    "Use the created `greet` function to greet yourself. "
   ]
  },
  {
   "cell_type": "code",
   "execution_count": 58,
   "metadata": {},
   "outputs": [],
   "source": [
    "### Write the exercise code here"
   ]
  },
  {
   "cell_type": "markdown",
   "metadata": {},
   "source": [
    "**Final excercise** <br>\n",
    "Use what you learned in this Notebook to complete the following excercise:\n",
    "\n",
    "Create and if/else statement that checks a username for the correct length. \n",
    "\n",
    "Use can use the inbuilt function len() to check how many characters a string contains. This len function can also be used with comparators (for example len(string) > 8). \n",
    "\n",
    "If a username is shorter than 3 characters, the output is 'Username too short'. <br>\n",
    "If a username is longer than 10 character, the output is 'Username too long'. <br>\n",
    "If the username is between 3 and 10 characters, the output is 'Username accepted. \n",
    "\n",
    "Store the output in a variable named output. \n",
    "\n"
   ]
  },
  {
   "cell_type": "markdown",
   "metadata": {},
   "source": [
    "### Packages\n",
    "\n",
    "The last important thing to know is that Python works with packages. A package is a collection of modules with predefined functions. These functions can than be used in your own code. Using packages can save a lot of programming work and enhances the functionality of base Python. Most Python programmers regularly use packages.\n",
    "\n",
    "Before using a Python package it needs to be installed. This is preferably done using the command line but can also be done within your Jupyter Notebook. \n",
    "\n",
    "Packages can be installed with the code:\n",
    "`pip install packagename`\n",
    "\n",
    "If you use Binder, the packages are automaticaly installed when the Binder enviroment is created. \n",
    "\n",
    "Afterwards the package needs to be imported into the Notebook. This is done with the syntax:\n",
    "`import packagename`\n",
    "\n",
    "After importing the package is ready for use. \n",
    "\n",
    "In the next two Notebooks, we will work with the packages Pandas (for easy data manipulation) and Plotly (for visualisation).  \n"
   ]
  },
  {
   "cell_type": "markdown",
   "metadata": {},
   "source": [
    "A package can be used in the same way as a function. We will use the pandas package to load data into the Notebook in a way that is digestable for the creation of a wordcloud. Many packages feature multiple functions for data manipulation, calculation or visualisation. The function you wish to use is added after the package name. The package name points Python to the location of the function."
   ]
  },
  {
   "cell_type": "markdown",
   "metadata": {},
   "source": [
    "## A note on code style\n",
    "\n",
    "Now that we have the syntax and basics of python out of the way. There is an important point to be discussed.  \n",
    "The style in which you write code will be defined by many things, but if you are starting out (which I assume as you are here), there are a few things that you can keep in mind to make things easier in the long run."
   ]
  },
  {
   "cell_type": "markdown",
   "metadata": {},
   "source": [
    "First and foremost, any code you write should be self-documenting (and self-explanatory).  \n",
    "Code is not only meant to be executed, but also be understandable and mainly readable.  \n",
    "Any code that you write will in future be worked upon by someone else or at least by you and you may have well forgotten what you were initially thinking when you wrote the piece of code.\n",
    "\n",
    "For instance, take a look at the two functions written below. Which one do you think is easier to understand on the first glance?"
   ]
  },
  {
   "cell_type": "code",
   "execution_count": 195,
   "metadata": {},
   "outputs": [
    {
     "name": "stdout",
     "output_type": "stream",
     "text": [
      "19.625\n"
     ]
    }
   ],
   "source": [
    "def calculate(r):\n",
    "    q = 3.14\n",
    "    z = q * ((r/2.0)** 2)\n",
    "    print(z)\n",
    "    \n",
    "calculate(5)"
   ]
  },
  {
   "cell_type": "code",
   "execution_count": 196,
   "metadata": {},
   "outputs": [
    {
     "name": "stdout",
     "output_type": "stream",
     "text": [
      "19.625\n"
     ]
    }
   ],
   "source": [
    "def circle_area(diameter):\n",
    "    pi = 3.14\n",
    "    radius = diameter/2.0\n",
    "    area = pi * (radius ** 2)\n",
    "    print(area)\n",
    "\n",
    "circle_area(5)"
   ]
  },
  {
   "cell_type": "markdown",
   "metadata": {},
   "source": [
    "Here are some tips to write code that is easily understandable and readable for everyone:\n",
    "- choose proper variable names that are related to the function they carry out\n",
    "- name your functions properly\n",
    "- refrain from writing complex pieces of code or equations until and unless it is necessary"
   ]
  },
  {
   "cell_type": "markdown",
   "metadata": {},
   "source": [
    "One final thing that you can do to help readers/developers understand you code is provide comments.  \n",
    "Comments in python are indicated by a hash (#)  \n",
    "Any line followed by a # is not executed by the python interpreter and is only present as a reference for the humans reading the code.\n",
    "\n",
    "For example:"
   ]
  },
  {
   "cell_type": "code",
   "execution_count": 197,
   "metadata": {},
   "outputs": [
    {
     "name": "stdout",
     "output_type": "stream",
     "text": [
      "78.5\n"
     ]
    }
   ],
   "source": [
    "# A function to calculate the area of a circle using its radius\n",
    "def circle_area(radius):\n",
    "    pi = 3.14\n",
    "    area = pi * (radius ** 2)\n",
    "    print(area)\n",
    "\n",
    "circle_area(5)"
   ]
  }
 ],
 "metadata": {
  "kernelspec": {
   "display_name": "Python 3 (ipykernel)",
   "language": "python",
   "name": "python3"
  },
  "language_info": {
   "codemirror_mode": {
    "name": "ipython",
    "version": 3
   },
   "file_extension": ".py",
   "mimetype": "text/x-python",
   "name": "python",
   "nbconvert_exporter": "python",
   "pygments_lexer": "ipython3",
   "version": "3.9.12"
  }
 },
 "nbformat": 4,
 "nbformat_minor": 4
}
