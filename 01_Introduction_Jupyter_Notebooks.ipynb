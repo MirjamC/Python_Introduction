{
 "cells": [
  {
   "cell_type": "markdown",
   "id": "2d2077b9",
   "metadata": {},
   "source": [
    "# 1. Introduction to Python and Jupyter Notebooks"
   ]
  },
  {
   "cell_type": "markdown",
   "id": "6aaa0c51",
   "metadata": {},
   "source": [
    "This lesson will give a short introduction on how to work with Notebooks in combination with Python. It consists of explanation followed by pratical exercises. To get the most out of this lesson it is best to manually type the code into your Jupyter Notebook instead of copy-pasting."
   ]
  },
  {
   "cell_type": "markdown",
   "id": "e86f840a",
   "metadata": {},
   "source": [
    "## How does a Notebook work?\n",
    "\n",
    "A Notebook is not a static page, but an interactive enviroment. Within the blocks (cells) of a Notebook code can be written ánd executed."
   ]
  },
  {
   "cell_type": "markdown",
   "id": "cda0f593",
   "metadata": {},
   "source": [
    "### Different cell types\n",
    "\n",
    "Notebooks are compromised of different types of cells. The main cell types are markdown (text) cells and code cells.\n",
    "\n",
    "#### Markdown cells\n",
    "Markdown cells (such as this one) are generally used for descriptions and explanations. These cells are inactive and code written in these cells cannot be executed.\n",
    "\n",
    "The layout is managed through markdown (see https://www.markdownguide.org/basic-syntax/ for more information)."
   ]
  },
  {
   "cell_type": "markdown",
   "id": "2eb370c2",
   "metadata": {},
   "source": [
    "#### Code cells\n",
    "\n",
    "The second main type of cell is the code cell. Code cells are used to write and execute code. In our case Python. When a code cell is run, Python will execute the code in the cell. More information about Python will follow in the next section.\n",
    "\n",
    "Code cells are easily recognized by the ‘In [ ]:’ to the left of the cell."
   ]
  },
  {
   "cell_type": "markdown",
   "id": "71be1f94",
   "metadata": {},
   "source": [
    "### Running cells\n",
    "\n",
    "There are multiple ways to run a cell:\n",
    "\n",
    "* By clicking the ‘Run’ button in the taskbar;\n",
    "* By pressing ‘shift + enter’ when the cell is selected (green frame) Note that this will move the selection box down one cell. When the end of the cells is reached this will add new empty cells to the Notebook.\n",
    "\n",
    "The moment a cell generates output the output is displayed beneath the cell, keeping code and output together.\n",
    "\n",
    "Excercise: run the following cell"
   ]
  },
  {
   "cell_type": "code",
   "execution_count": 3,
   "id": "7cf08287",
   "metadata": {},
   "outputs": [
    {
     "data": {
      "text/plain": [
       "16"
      ]
     },
     "execution_count": 3,
     "metadata": {},
     "output_type": "execute_result"
    }
   ],
   "source": [
    "2*8"
   ]
  },
  {
   "cell_type": "markdown",
   "id": "630d88e7",
   "metadata": {},
   "source": [
    "### Adding new cells\n",
    "\n",
    "One cell is rarely enough to make a clearly structured Notebook. Adding more cells can be done by pressing the ‘+’ button in the taskbar.\n",
    "\n",
    "This will add a new cell directly below the currently active cell.\n",
    "\n",
    "Another way is to use the menu ‘Insert’, where the choice is given between adding a cell above or below the current active cell."
   ]
  },
  {
   "cell_type": "markdown",
   "id": "d1e2114c",
   "metadata": {},
   "source": [
    "### Comments\n",
    "\n",
    "Comments can be added to a code cell. Comments can be used to describe what a piece of code does, or can be used to tell where values can be changed."
   ]
  },
  {
   "cell_type": "code",
   "execution_count": 6,
   "id": "49f0f543",
   "metadata": {},
   "outputs": [],
   "source": [
    "# This is an example of a comment in a code cell."
   ]
  },
  {
   "cell_type": "markdown",
   "id": "acfee8f1",
   "metadata": {},
   "source": [
    "The moment a # is typed in a code cell, everything after it on the same line will be regarded as a comment. Lines that have been marked as a comment will not be executed by Python when the cell is run.\n",
    "\n",
    "Excercise: Run the following cell "
   ]
  },
  {
   "cell_type": "code",
   "execution_count": 10,
   "id": "354000cc",
   "metadata": {},
   "outputs": [],
   "source": [
    "#print(\"The solution to 35+12 is:\")\n",
    "#print(35+12)"
   ]
  },
  {
   "cell_type": "markdown",
   "id": "07c24d60",
   "metadata": {},
   "source": [
    "As you can see, the cell should not return any output as the code is commented out by the #.\n",
    "When the # is removed and the cell is run again, Python wil recognize the code and execute it.\n",
    "\n",
    "Excercise: Alter the cell so the code is no longer seen as a comment."
   ]
  },
  {
   "cell_type": "code",
   "execution_count": 8,
   "id": "742ba960",
   "metadata": {},
   "outputs": [],
   "source": [
    "#print(\"The solution to 35+12 is:\")\n",
    "#print(35+12)"
   ]
  },
  {
   "cell_type": "markdown",
   "id": "cb53fe5d",
   "metadata": {},
   "source": [
    "Removing the # from the code should enable Python to recognize the code and return output when the cell is run.\n",
    "After remove the #, the cell above should have the following output:\n",
    "\n",
    "\n",
    "\n",
    "> The solution to 35+12 is: \n",
    "> 47\n",
    "\n"
   ]
  },
  {
   "cell_type": "markdown",
   "id": "9317c0ec",
   "metadata": {},
   "source": [
    "# Python\n",
    "\n",
    "Python was developed in 1991 by Guido van Rossum. The purpose of Python was to create a programming language that is both simple to understand and readable. Python works on different platforms such as Windows, Mac, Linux, etc. It is a very popular programming language in data analysis and data science because of its versatality. Python is open source, and can therefore be used for free."
   ]
  },
  {
   "cell_type": "markdown",
   "id": "0ba3dbbf",
   "metadata": {},
   "source": [
    "## Input and variables\n",
    "\n",
    "When using Python there are multiple types of input data, such as lists, numbers, text, and even whole tables. We put these input into variables. A variable is essentially a container for the data. The name of a variable is up to your own discretion, although there are some rules and guidlines (see for example: https://www.w3schools.com/python/gloss_python_variable_names.asp). Python remembers which input was loaded into which variable. This means that the variables can be used in the code instead of the data itself.\n",
    "\n",
    "When creating a variable, it is important to input data correctly: for numbers no quotation marks are used, for text quotation marks must be used!\n",
    "\n",
    "The command type() can be used to determine what type of input a variable contains. For example: int indicates a variable contains an integer, or whole number. str indicates a variable contains a string, a piece of text.\n",
    "\n",
    "Excercise: Run the following cell"
   ]
  },
  {
   "cell_type": "code",
   "execution_count": 12,
   "id": "194f6df1",
   "metadata": {},
   "outputs": [
    {
     "data": {
      "text/plain": [
       "int"
      ]
     },
     "execution_count": 12,
     "metadata": {},
     "output_type": "execute_result"
    }
   ],
   "source": [
    "# This stores the data in the variable\n",
    "number = 9\n",
    "# This determines its type\n",
    "type(number)"
   ]
  },
  {
   "cell_type": "markdown",
   "id": "6881f2fa",
   "metadata": {},
   "source": [
    "Python return 'int', which indicates that the type of the variable 'number' is an integer\n",
    "\n",
    "We can do the same for text input.\n",
    "\n",
    "Exercise: run the following cel:"
   ]
  },
  {
   "cell_type": "code",
   "execution_count": 13,
   "id": "8e677fcd",
   "metadata": {},
   "outputs": [
    {
     "data": {
      "text/plain": [
       "str"
      ]
     },
     "execution_count": 13,
     "metadata": {},
     "output_type": "execute_result"
    }
   ],
   "source": [
    "# This stores the data in the variable\n",
    "text = \"this is a text\"\n",
    "# This determines its type\n",
    "type(text)"
   ]
  },
  {
   "cell_type": "markdown",
   "id": "f8cb979d",
   "metadata": {},
   "source": [
    "Python now return 'str', which indicates that the variable 'text' is a string. "
   ]
  },
  {
   "cell_type": "markdown",
   "id": "e028b2f3",
   "metadata": {},
   "source": [
    "Important! If you input a number with quotation marks Python will see it as text!\n",
    "\n",
    "Excercise: run the follownig cell:"
   ]
  },
  {
   "cell_type": "code",
   "execution_count": 15,
   "id": "a30b76a4",
   "metadata": {},
   "outputs": [
    {
     "data": {
      "text/plain": [
       "str"
      ]
     },
     "execution_count": 15,
     "metadata": {},
     "output_type": "execute_result"
    }
   ],
   "source": [
    "number_but_wrong = \"9\"\n",
    "type(number_but_wrong)"
   ]
  },
  {
   "cell_type": "markdown",
   "id": "8a2054c4",
   "metadata": {},
   "source": [
    "Python supports the following basic (a.k.a primitive) data types:\n",
    "\n",
    "    string:\n",
    "        used to store characters\n",
    "        always enclosed in quote marks (\" or ')\n",
    "        denoted as str\n",
    "    integer:\n",
    "        used to store integers (numbers without a fractional part)\n",
    "        can be positive or negative\n",
    "        denoted as int\n",
    "    float:\n",
    "        used to store real numbers\n",
    "        denoted by float\n",
    "    boolean:\n",
    "        used to store a True/False value\n",
    "        denoted by bool\n"
   ]
  },
  {
   "cell_type": "markdown",
   "id": "0f544cd3",
   "metadata": {},
   "source": [
    "## operators\n"
   ]
  },
  {
   "cell_type": "markdown",
   "id": "1d073b9c",
   "metadata": {},
   "source": [
    "Now that we know how to store data using the appropriate types, we would eventually like to manipulate the data.\n",
    "Python provides many operators that can be used to manipulate data.\n",
    "Here are the most commonly used operators in python:\n",
    "\n",
    "\"+\" addition operator"
   ]
  },
  {
   "cell_type": "code",
   "execution_count": null,
   "id": "cc2f6f55",
   "metadata": {},
   "outputs": [],
   "source": [
    "print(2+8)"
   ]
  },
  {
   "cell_type": "code",
   "execution_count": null,
   "id": "b670dd56",
   "metadata": {},
   "outputs": [],
   "source": [
    "\"-\" subtraction operator"
   ]
  },
  {
   "cell_type": "code",
   "execution_count": null,
   "id": "e3ce5fa7",
   "metadata": {},
   "outputs": [],
   "source": []
  },
  {
   "cell_type": "code",
   "execution_count": null,
   "id": "da03efe3",
   "metadata": {},
   "outputs": [],
   "source": []
  },
  {
   "cell_type": "markdown",
   "id": "94352fcc",
   "metadata": {},
   "source": [
    "\"/\" division operator"
   ]
  },
  {
   "cell_type": "code",
   "execution_count": null,
   "id": "a73d2544",
   "metadata": {},
   "outputs": [],
   "source": []
  },
  {
   "cell_type": "code",
   "execution_count": null,
   "id": "97c2f079",
   "metadata": {},
   "outputs": [],
   "source": [
    "\"*\" multiplication operator"
   ]
  },
  {
   "cell_type": "code",
   "execution_count": null,
   "id": "615ca35b",
   "metadata": {},
   "outputs": [],
   "source": [
    "Operators and strings\n",
    "A few operators can also be used with strings.\n",
    "\n",
    "    the addition operator concatenates two strings to form a bigger string\n",
    "    the multiplication operator repeats a string n times (where n is the other operant)\n",
    "NOTE: It should be noted that operators only work with the same data type. For example, we cannot add an integer to a string."
   ]
  },
  {
   "cell_type": "code",
   "execution_count": null,
   "id": "deba334f",
   "metadata": {},
   "outputs": [],
   "source": [
    "\n",
    "\n",
    "print(\"hello \" + 2)\n",
    "\n"
   ]
  },
  {
   "cell_type": "code",
   "execution_count": null,
   "id": "24ec1f23",
   "metadata": {},
   "outputs": [],
   "source": [
    "\n",
    "Type conversions\n",
    "\n",
    "As mentioned above, we can't mix data types while operating on them. This is a half truth.\n",
    "We can mix some operators to a certain level. For example:\n"
   ]
  }
 ],
 "metadata": {
  "kernelspec": {
   "display_name": "Python 3 (ipykernel)",
   "language": "python",
   "name": "python3"
  },
  "language_info": {
   "codemirror_mode": {
    "name": "ipython",
    "version": 3
   },
   "file_extension": ".py",
   "mimetype": "text/x-python",
   "name": "python",
   "nbconvert_exporter": "python",
   "pygments_lexer": "ipython3",
   "version": "3.9.12"
  }
 },
 "nbformat": 4,
 "nbformat_minor": 5
}
