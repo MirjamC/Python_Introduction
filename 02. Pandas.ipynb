{
 "cells": [
  {
   "cell_type": "markdown",
   "id": "7fecd959",
   "metadata": {},
   "source": [
    "Content:\n",
    "\n",
    "* what is pandas\n",
    "* what is a csv file\n",
    "* open a csv file with pandas\n",
    "* inspect csv file with pandas\n",
    "* filter with pandas\n",
    "* count with pandas\n",
    "* statistics with pandas"
   ]
  },
  {
   "cell_type": "code",
   "execution_count": null,
   "id": "69c33b77",
   "metadata": {},
   "outputs": [],
   "source": []
  }
 ],
 "metadata": {
  "kernelspec": {
   "display_name": "Python 3 (ipykernel)",
   "language": "python",
   "name": "python3"
  },
  "language_info": {
   "codemirror_mode": {
    "name": "ipython",
    "version": 3
   },
   "file_extension": ".py",
   "mimetype": "text/x-python",
   "name": "python",
   "nbconvert_exporter": "python",
   "pygments_lexer": "ipython3",
   "version": "3.9.12"
  }
 },
 "nbformat": 4,
 "nbformat_minor": 5
}
